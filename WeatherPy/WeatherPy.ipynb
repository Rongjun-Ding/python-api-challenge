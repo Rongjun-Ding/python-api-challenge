{
 "cells": [
  {
   "cell_type": "markdown",
   "metadata": {},
   "source": [
    "# WeatherPy\n",
    "----\n",
    "\n",
    "#### Note\n",
    "* Instructions have been included for each segment. You do not have to follow them exactly, but they are included to help you think through the steps."
   ]
  },
  {
   "cell_type": "code",
   "execution_count": 31,
   "metadata": {
    "scrolled": true
   },
   "outputs": [],
   "source": [
    "# Dependencies and Setup\n",
    "import matplotlib.pyplot as plt\n",
    "import pandas as pd\n",
    "import numpy as np\n",
    "import json\n",
    "import requests\n",
    "import time\n",
    "from scipy.stats import linregress\n",
    "\n",
    "# Import API key\n",
    "from api_keys import weather_api_key\n",
    "\n",
    "# Incorporated citipy to determine city based on latitude and longitude\n",
    "from citipy import citipy\n",
    "\n",
    "# Output File (CSV)\n",
    "output_data_file = \"output_data/cities.csv\"\n",
    "\n",
    "# Range of latitudes and longitudes\n",
    "lat_range = (-90, 90)\n",
    "lng_range = (-180, 180)"
   ]
  },
  {
   "cell_type": "markdown",
   "metadata": {},
   "source": [
    "## Generate Cities List"
   ]
  },
  {
   "cell_type": "code",
   "execution_count": 32,
   "metadata": {},
   "outputs": [
    {
     "name": "stdout",
     "output_type": "stream",
     "text": [
      "607\n",
      "['geraldton', 'semirom', 'yellowknife', 'port hedland', 'saldanha', 'kirakira', 'bambous virieux', 'cairns', 'nowogard', 'avarua', 'vila velha', 'rikitea', 'provideniya', 'ushuaia', 'ostrovnoy', 'jamestown', 'maniitsoq', 'punta arenas', 'loralai', 'paamiut', 'kavaratti', 'inhambane', 'hermanus', 'georgetown', 'east london', 'sao joao da barra', 'scarborough', 'dingle', 'souillac', 'walvis bay', 'tuatapere', 'palmer', 'illoqqortoormiut', 'catumbela', 'mataura', 'tobermory', 'thompson', 'ilulissat', 'kruisfontein', 'saint anthony', 'busselton', 'kodiak', 'brae', 'cabo san lucas', 'matamoros', 'vanavara', 'nikolskoye', 'arraial do cabo', 'narsaq', 'hoogeveen', 'tambopata', 'cape town', 'hobart', 'talnakh', 'carnarvon', 'caravelas', 'kodlipet', 'hilo', 'wawa', 'barrow', 'asayita', 'bredasdorp', 'rio cuarto', 'peniche', 'teahupoo', 'beira', 'lata', 'barentsburg', 'cidreira', 'jacareacanga', 'havoysund', 'amderma', 'chuy', 'faanui', 'merritt island', 'mongui', 'hanover', 'new milford', 'college', 'rabaul', 'dalinghe', 'ajdabiya', 'codajas', 'bay-khaak', 'saleaula', 'katsuura', 'dakar', 'parabel', 'kaitangata', 'kudahuvadhoo', 'albany', 'cache creek', 'hofn', 'barkot', 'atuona', 'qaanaaq', 'saint-francois', 'saint-philippe', 'bluff', 'doha', 'kizukuri', 'manokwari', 'puerto ayora', 'charters towers', 'petropavlovskoye', 'tasiilaq', 'taolanaro', 'port lincoln', 'trinidad', 'sao filipe', 'ambon', 'san pedro', 'belushya guba', 'talcahuano', 'mandalgovi', 'norman wells', 'hasaki', 'kalemie', 'iqaluit', 'nelson bay', 'afmadu', 'khatanga', 'saint-joseph', 'markova', 'tsihombe', 'ixtapa', 'olafsvik', 'mar del plata', 'methoni', 'svetlogorsk', 'sitka', 'malanville', 'strezhevoy', 'fairbanks', 'hithadhoo', 'sinnamary', 'lazaro cardenas', 'airai', 'luwingu', 'hambantota', 'maiduguri', 'dandong', 'martapura', 'hami', 'alyangula', 'mys shmidta', 'melfi', 'guerrero negro', 'pochinki', 'fortuna', 'elko', 'suba', 'srednekolymsk', 'tongzi', 'luderitz', 'saint george', 'sataua', 'taywarah', 'dunda', 'samusu', 'port elizabeth', 'port alfred', 'dawson creek', 'flinders', 'toma', 'lososina', 'oriximina', 'daru', 'nizhneyansk', 'vrede', 'praia da vitoria', 'tual', 'linjiang', 'kapaa', 'morondava', 'grand river south east', 'lorengau', 'constitucion', 'tiksi', 'bengkulu', 'hobyo', 'dikson', 'mayo', 'port moresby', 'longyearbyen', 'halalo', 'olinda', 'beisfjord', 'tifton', 'taman', 'ponta do sol', 'rio grande', 'chokurdakh', 'andenes', 'castro', 'tuktoyaktuk', 'upernavik', 'vaitupu', 'isla vista', 'vaini', 'tabasco', 'hun', 'oni', 'bilibino', 'grindavik', 'bathsheba', 'alice springs', 'krasnoborsk', 'san cristobal', 'paungde', 'roald', 'gurupa', 'islahiye', 'mana', 'san martin', 'thomaston', 'severo-kurilsk', 'belaya gora', 'fredericton', 'north bend', 'oranjemund', 'evensk', 'yerbogachen', 'misratah', 'canyon', 'kiknur', 'cuamba', 'yatou', 'pevek', 'kununurra', 'bethel', 'carlsbad', 'egvekinot', 'ribeira grande', 'rungata', 'alofi', 'berlevag', 'mudanya', 'esqueda', 'salinopolis', 'tezu', 'codrington', 'belmonte', 'kamenka', 'beringovskiy', 'namibe', 'hvide sande', 'tazmalt', 'petropavlovsk-kamchatskiy', 'carhuamayo', 'venice', 'dujuma', 'novikovo', 'lagoa', 'san patricio', 'myitkyina', 'nanortalik', 'goderich', 'atar', 'vaitape', 'butaritari', 'los llanos de aridane', 'opuwo', 'laguna', 'lebu', 'dharchula', 'fare', 'fairburn', 'senneterre', 'georgiyevka', 'acapulco', 'marcona', 'coahuayana', 'hunza', 'palabuhanratu', 'sept-iles', 'raahe', 'muros', 'ossora', 'namatanai', 'mwense', 'jujuy', 'ardu', 'diplo', 'okato', 'meyungs', 'ondjiva', 'puerto armuelles', 'port blair', 'mehamn', 'bandarbeyla', 'gao', 'gamba', 'torbay', 'rolim de moura', 'ous', 'eyl', 'rio gallegos', 'manhush', 'leningradskiy', 'iskateley', 'san andres', 'ahipara', 'novyy urengoy', 'havre-saint-pierre', 'vestmannaeyjar', 'roebourne', 'komsomolskiy', 'la ronge', 'mogwase', 'washington', 'samalaeulu', 'gushikawa', 'hamina', 'ancud', 'satitoa', 'asau', 'vieste', 'payakumbuh', 'saskylakh', 'magistralnyy', 'zabrani', 'semporna', 'adrar', 'rock springs', 'ternate', 'whitecourt', 'kamina', 'bilma', 'sur', 'deputatskiy', 'colac', 'hovd', 'shitanjing', 'nioki', 'malakal', 'cerrito', 'dongsheng', 'hervey bay', 'jinchengjiang', 'polunochnoye', 'san luis', 'oussouye', 'brus laguna', 'sembe', 'tumannyy', 'gueret', 'bur gabo', 'kedrovyy', 'taurisano', 'lavrentiya', 'cayenne', 'vardo', 'parnarama', 'dalbandin', 'muzhi', 'oga', 'sulangan', 'primore', 'norrtalje', 'aswan', 'kahului', 'jasper', 'athabasca', 'cherskiy', 'itoman', 'jardim', 'clyde river', 'meulaboh', 'pangnirtung', 'richards bay', 'burg', 'attawapiskat', 'cockburn town', 'pando', 'ponnampet', 'soyo', 'ijaki', 'manta', 'alice', 'teacapan', 'maldonado', 'sao leopoldo', 'bereda', 'grand centre', 'new norfolk', 'bolungarvik', 'we', 'araouane', 'korla', 'waipawa', 'galesong', 'maragogi', 'rocha', 'araguatins', 'nueve de julio', 'lolua', 'saint-augustin', 'otjiwarongo', 'santander', 'pustoshka', 'kapasan', 'san ignacio', 'keita', 'huarmey', 'usinsk', 'ketchikan', 'leninskoye', 'vallenar', 'eldorado', 'kutum', 'tortoli', 'altagracia de orituco', 'cortez', 'mahebourg', 'kieta', 'sistranda', 'poya', 'roma', 'okha', 'viransehir', 'husavik', 'aguimes', 'villazon', 'coihaique', 'hoquiam', 'iberia', 'chicama', 'vynohradove', 'ituni', 'dianopolis', 'rapar', 'sentyabrskiy', 'viligili', 'derzhavinsk', 'victoria', 'wladyslawowo', 'atasu', 'pemangkat', 'yulara', 'esperance', 'jiangyou', 'harbour breton', 'wahpeton', 'nuevitas', 'mahdalynivka', 'samarai', 'oktyabrskiy', 'boa vista', 'sao paulo de olivenca', 'calderitas', 'piriyapatna', 'tremedal', 'nyurba', 'umzimvubu', 'haines junction', 'mount isa', 'hihifo', 'taltal', 'msanga', 'naze', 'estelle', 'baoying', 'dunedin', 'tarakan', 'ust-koksa', 'rawson', 'quelimane', 'vanderhoof', 'olovyannaya', 'kenai', 'marawi', 'arras', 'mahon', 'kaeo', 'springbok', 'bentiu', 'isangel', 'erdenet', 'skovorodino', 'lakeway', 'castelo branco', 'shahrud', 'arica', 'nampula', 'marumori', 'kayasula', 'karaul', 'chagda', 'san quintin', 'ust-kamchatsk', 'altay', 'mixtequilla', 'road town', 'coquimbo', 'camiri', 'zapolyarnyy', 'gobabis', 'quesnel', 'tidore', 'tecoanapa', 'bardiyah', 'mokhsogollokh', 'makakilo city', 'saurimo', 'hisar', 'kazachinskoye', 'tubruq', 'pandan', 'broome', 'northam', 'cordoba', 'aklavik', 'terrace bay', 'lakes entrance', 'baghdad', 'naryan-mar', 'lompoc', 'seoul', 'puerto baquerizo moreno', 'yaan', 'ahuimanu', 'frontignan', 'octeville', 'port-gentil', 'kloulklubed', 'comodoro rivadavia', 'tatvan', 'sao jose da coroa grande', 'los mochis', 'vanimo', 'mogadishu', 'bud', 'beloha', 'igrim', 'dekoa', 'fort nelson', 'mackay', 'fethiye', 'morgan city', 'sorong', 'maun', 'stephenville', 'te anau', 'tilichiki', 'wangaratta', 'valparaiso', 'bombay', 'tumaco', 'khasan', 'toliary', 'russell', 'boundiali', 'conceicao do araguaia', 'xining', 'nyagan', 'moron', 'ye', 'cantagallo', 'turukhansk', 'naudero', 'kattivakkam', 'kerema', 'todos santos', 'hirara', 'nelson', 'avera', 'mexicali', 'malwan', 'monrovia', 'westport', 'shumikha', 'tura', 'ardakan', 'paradwip', 'mayskiy', 'dauriya', 'ozernovskiy', 'balgazyn', 'krasnyy chikoy', 'nizhniy kuranakh', 'baykit', 'portsmouth', 'soledade', 'mitsamiouli', 'puerto escondido', 'high level', 'baoro', 'aflu', 'kamenskoye', 'wilmington', 'lano', 'port augusta', 'manaure', 'chimoio', 'pisco', 'fengcheng', 'bargal', 'risor', 'vao', 'sorland', 'jorochito', 'abalak', 'rantepao', 'mascote', 'temiscaming', 'piranhas']\n"
     ]
    }
   ],
   "source": [
    "# List for holding lat_lngs and cities\n",
    "lat_lngs = []\n",
    "cities = []\n",
    "\n",
    "# Create a set of random lat and lng combinations\n",
    "lats = np.random.uniform(lat_range[0], lat_range[1], size=1500)\n",
    "lngs = np.random.uniform(lng_range[0], lng_range[1], size=1500)\n",
    "lat_lngs = zip(lats, lngs)\n",
    "\n",
    "# Identify nearest city for each lat, lng combination\n",
    "for lat_lng in lat_lngs:\n",
    "    city = citipy.nearest_city(lat_lng[0], lat_lng[1]).city_name\n",
    "    \n",
    "    # If the city is unique, then add it to a our cities list\n",
    "    if city not in cities:\n",
    "        cities.append(city)\n",
    "\n",
    "# Print the city count to confirm sufficient count\n",
    "print(len(cities))\n",
    "print(cities)"
   ]
  },
  {
   "cell_type": "code",
   "execution_count": 33,
   "metadata": {},
   "outputs": [
    {
     "data": {
      "text/plain": [
       "['ostrovnoy', 'mahebourg', 'qaanaaq', 'zhuhai', 'flinders', 'cape town']"
      ]
     },
     "execution_count": 33,
     "metadata": {},
     "output_type": "execute_result"
    }
   ],
   "source": [
    "#sample city\n",
    "citys = [\"ostrovnoy\",\"mahebourg\",\"qaanaaq\",\"zhuhai\",\"flinders\",\"cape town\"]\n",
    "citys"
   ]
  },
  {
   "cell_type": "markdown",
   "metadata": {},
   "source": [
    "## Perform API Calls\n",
    "* Perform a weather check on each city using a series of successive API calls.\n",
    "* Include a print log of each city as it's being processed (with the city number and city name).\n"
   ]
  },
  {
   "cell_type": "code",
   "execution_count": 34,
   "metadata": {
    "scrolled": true
   },
   "outputs": [],
   "source": [
    "url = \"http://api.openweathermap.org/data/2.5/weather?appid=\"+ weather_api_key + \"&q=\"\n"
   ]
  },
  {
   "cell_type": "markdown",
   "metadata": {},
   "source": [
    "## Convert Raw Data to DataFrame\n",
    "* Save as csv"
   ]
  },
  {
   "cell_type": "code",
   "execution_count": 35,
   "metadata": {},
   "outputs": [
    {
     "ename": "ValueError",
     "evalue": "arrays must all be same length",
     "output_type": "error",
     "traceback": [
      "\u001b[1;31m---------------------------------------------------------------------------\u001b[0m",
      "\u001b[1;31mValueError\u001b[0m                                Traceback (most recent call last)",
      "\u001b[1;32m<ipython-input-35-dd09be970ed5>\u001b[0m in \u001b[0;36m<module>\u001b[1;34m\u001b[0m\n\u001b[0;32m     34\u001b[0m     \u001b[1;34m\"date\"\u001b[0m\u001b[1;33m:\u001b[0m\u001b[0mdate\u001b[0m\u001b[1;33m\u001b[0m\u001b[1;33m\u001b[0m\u001b[0m\n\u001b[0;32m     35\u001b[0m }\n\u001b[1;32m---> 36\u001b[1;33m \u001b[0mweather_data\u001b[0m \u001b[1;33m=\u001b[0m \u001b[0mpd\u001b[0m\u001b[1;33m.\u001b[0m\u001b[0mDataFrame\u001b[0m\u001b[1;33m(\u001b[0m\u001b[0mweather_dict\u001b[0m\u001b[1;33m)\u001b[0m\u001b[1;33m\u001b[0m\u001b[1;33m\u001b[0m\u001b[0m\n\u001b[0m\u001b[0;32m     37\u001b[0m \u001b[0mweather_data\u001b[0m\u001b[1;33m.\u001b[0m\u001b[0mhead\u001b[0m\u001b[1;33m(\u001b[0m\u001b[1;33m)\u001b[0m\u001b[1;33m\u001b[0m\u001b[1;33m\u001b[0m\u001b[0m\n",
      "\u001b[1;32mc:\\users\\rongj\\appdata\\local\\programs\\python\\python38-32\\lib\\site-packages\\pandas\\core\\frame.py\u001b[0m in \u001b[0;36m__init__\u001b[1;34m(self, data, index, columns, dtype, copy)\u001b[0m\n\u001b[0;32m    466\u001b[0m \u001b[1;33m\u001b[0m\u001b[0m\n\u001b[0;32m    467\u001b[0m         \u001b[1;32melif\u001b[0m \u001b[0misinstance\u001b[0m\u001b[1;33m(\u001b[0m\u001b[0mdata\u001b[0m\u001b[1;33m,\u001b[0m \u001b[0mdict\u001b[0m\u001b[1;33m)\u001b[0m\u001b[1;33m:\u001b[0m\u001b[1;33m\u001b[0m\u001b[1;33m\u001b[0m\u001b[0m\n\u001b[1;32m--> 468\u001b[1;33m             \u001b[0mmgr\u001b[0m \u001b[1;33m=\u001b[0m \u001b[0minit_dict\u001b[0m\u001b[1;33m(\u001b[0m\u001b[0mdata\u001b[0m\u001b[1;33m,\u001b[0m \u001b[0mindex\u001b[0m\u001b[1;33m,\u001b[0m \u001b[0mcolumns\u001b[0m\u001b[1;33m,\u001b[0m \u001b[0mdtype\u001b[0m\u001b[1;33m=\u001b[0m\u001b[0mdtype\u001b[0m\u001b[1;33m)\u001b[0m\u001b[1;33m\u001b[0m\u001b[1;33m\u001b[0m\u001b[0m\n\u001b[0m\u001b[0;32m    469\u001b[0m         \u001b[1;32melif\u001b[0m \u001b[0misinstance\u001b[0m\u001b[1;33m(\u001b[0m\u001b[0mdata\u001b[0m\u001b[1;33m,\u001b[0m \u001b[0mma\u001b[0m\u001b[1;33m.\u001b[0m\u001b[0mMaskedArray\u001b[0m\u001b[1;33m)\u001b[0m\u001b[1;33m:\u001b[0m\u001b[1;33m\u001b[0m\u001b[1;33m\u001b[0m\u001b[0m\n\u001b[0;32m    470\u001b[0m             \u001b[1;32mimport\u001b[0m \u001b[0mnumpy\u001b[0m\u001b[1;33m.\u001b[0m\u001b[0mma\u001b[0m\u001b[1;33m.\u001b[0m\u001b[0mmrecords\u001b[0m \u001b[1;32mas\u001b[0m \u001b[0mmrecords\u001b[0m\u001b[1;33m\u001b[0m\u001b[1;33m\u001b[0m\u001b[0m\n",
      "\u001b[1;32mc:\\users\\rongj\\appdata\\local\\programs\\python\\python38-32\\lib\\site-packages\\pandas\\core\\internals\\construction.py\u001b[0m in \u001b[0;36minit_dict\u001b[1;34m(data, index, columns, dtype)\u001b[0m\n\u001b[0;32m    281\u001b[0m             \u001b[0marr\u001b[0m \u001b[1;32mif\u001b[0m \u001b[1;32mnot\u001b[0m \u001b[0mis_datetime64tz_dtype\u001b[0m\u001b[1;33m(\u001b[0m\u001b[0marr\u001b[0m\u001b[1;33m)\u001b[0m \u001b[1;32melse\u001b[0m \u001b[0marr\u001b[0m\u001b[1;33m.\u001b[0m\u001b[0mcopy\u001b[0m\u001b[1;33m(\u001b[0m\u001b[1;33m)\u001b[0m \u001b[1;32mfor\u001b[0m \u001b[0marr\u001b[0m \u001b[1;32min\u001b[0m \u001b[0marrays\u001b[0m\u001b[1;33m\u001b[0m\u001b[1;33m\u001b[0m\u001b[0m\n\u001b[0;32m    282\u001b[0m         ]\n\u001b[1;32m--> 283\u001b[1;33m     \u001b[1;32mreturn\u001b[0m \u001b[0marrays_to_mgr\u001b[0m\u001b[1;33m(\u001b[0m\u001b[0marrays\u001b[0m\u001b[1;33m,\u001b[0m \u001b[0mdata_names\u001b[0m\u001b[1;33m,\u001b[0m \u001b[0mindex\u001b[0m\u001b[1;33m,\u001b[0m \u001b[0mcolumns\u001b[0m\u001b[1;33m,\u001b[0m \u001b[0mdtype\u001b[0m\u001b[1;33m=\u001b[0m\u001b[0mdtype\u001b[0m\u001b[1;33m)\u001b[0m\u001b[1;33m\u001b[0m\u001b[1;33m\u001b[0m\u001b[0m\n\u001b[0m\u001b[0;32m    284\u001b[0m \u001b[1;33m\u001b[0m\u001b[0m\n\u001b[0;32m    285\u001b[0m \u001b[1;33m\u001b[0m\u001b[0m\n",
      "\u001b[1;32mc:\\users\\rongj\\appdata\\local\\programs\\python\\python38-32\\lib\\site-packages\\pandas\\core\\internals\\construction.py\u001b[0m in \u001b[0;36marrays_to_mgr\u001b[1;34m(arrays, arr_names, index, columns, dtype, verify_integrity)\u001b[0m\n\u001b[0;32m     76\u001b[0m         \u001b[1;31m# figure out the index, if necessary\u001b[0m\u001b[1;33m\u001b[0m\u001b[1;33m\u001b[0m\u001b[1;33m\u001b[0m\u001b[0m\n\u001b[0;32m     77\u001b[0m         \u001b[1;32mif\u001b[0m \u001b[0mindex\u001b[0m \u001b[1;32mis\u001b[0m \u001b[1;32mNone\u001b[0m\u001b[1;33m:\u001b[0m\u001b[1;33m\u001b[0m\u001b[1;33m\u001b[0m\u001b[0m\n\u001b[1;32m---> 78\u001b[1;33m             \u001b[0mindex\u001b[0m \u001b[1;33m=\u001b[0m \u001b[0mextract_index\u001b[0m\u001b[1;33m(\u001b[0m\u001b[0marrays\u001b[0m\u001b[1;33m)\u001b[0m\u001b[1;33m\u001b[0m\u001b[1;33m\u001b[0m\u001b[0m\n\u001b[0m\u001b[0;32m     79\u001b[0m         \u001b[1;32melse\u001b[0m\u001b[1;33m:\u001b[0m\u001b[1;33m\u001b[0m\u001b[1;33m\u001b[0m\u001b[0m\n\u001b[0;32m     80\u001b[0m             \u001b[0mindex\u001b[0m \u001b[1;33m=\u001b[0m \u001b[0mensure_index\u001b[0m\u001b[1;33m(\u001b[0m\u001b[0mindex\u001b[0m\u001b[1;33m)\u001b[0m\u001b[1;33m\u001b[0m\u001b[1;33m\u001b[0m\u001b[0m\n",
      "\u001b[1;32mc:\\users\\rongj\\appdata\\local\\programs\\python\\python38-32\\lib\\site-packages\\pandas\\core\\internals\\construction.py\u001b[0m in \u001b[0;36mextract_index\u001b[1;34m(data)\u001b[0m\n\u001b[0;32m    395\u001b[0m             \u001b[0mlengths\u001b[0m \u001b[1;33m=\u001b[0m \u001b[0mlist\u001b[0m\u001b[1;33m(\u001b[0m\u001b[0mset\u001b[0m\u001b[1;33m(\u001b[0m\u001b[0mraw_lengths\u001b[0m\u001b[1;33m)\u001b[0m\u001b[1;33m)\u001b[0m\u001b[1;33m\u001b[0m\u001b[1;33m\u001b[0m\u001b[0m\n\u001b[0;32m    396\u001b[0m             \u001b[1;32mif\u001b[0m \u001b[0mlen\u001b[0m\u001b[1;33m(\u001b[0m\u001b[0mlengths\u001b[0m\u001b[1;33m)\u001b[0m \u001b[1;33m>\u001b[0m \u001b[1;36m1\u001b[0m\u001b[1;33m:\u001b[0m\u001b[1;33m\u001b[0m\u001b[1;33m\u001b[0m\u001b[0m\n\u001b[1;32m--> 397\u001b[1;33m                 \u001b[1;32mraise\u001b[0m \u001b[0mValueError\u001b[0m\u001b[1;33m(\u001b[0m\u001b[1;34m\"arrays must all be same length\"\u001b[0m\u001b[1;33m)\u001b[0m\u001b[1;33m\u001b[0m\u001b[1;33m\u001b[0m\u001b[0m\n\u001b[0m\u001b[0;32m    398\u001b[0m \u001b[1;33m\u001b[0m\u001b[0m\n\u001b[0;32m    399\u001b[0m             \u001b[1;32mif\u001b[0m \u001b[0mhave_dicts\u001b[0m\u001b[1;33m:\u001b[0m\u001b[1;33m\u001b[0m\u001b[1;33m\u001b[0m\u001b[0m\n",
      "\u001b[1;31mValueError\u001b[0m: arrays must all be same length"
     ]
    }
   ],
   "source": [
    "lat = []\n",
    "lng=[]\n",
    "Max_Temp = []\n",
    "Cloudiness=[]\n",
    "Humidity=[]\n",
    "Wind_Speed=[]\n",
    "country=[]\n",
    "date=[]\n",
    "\n",
    "for city in cities:\n",
    "    response = requests.get(url + city).json()\n",
    "    try:\n",
    "        lat.append(response['coord']['lat'])\n",
    "        lng.append(response['coord']['lon'])\n",
    "        Max_Temp.append(response['main']['temp_max'])\n",
    "        Cloudiness.append(response['clouds']['all'])\n",
    "        Humidity.append(response['main']['humidity'])\n",
    "        Wind_Speed.append(response['wind']['speed'])\n",
    "        country.append(response['sys']['country'])\n",
    "        date.append(response['dt'])\n",
    "    except:\n",
    "        \n",
    "        pass\n",
    "\n",
    "weather_dict = {\n",
    "    \"city\": citys,\n",
    "    \"lat\": lat,\n",
    "    \"lng\":lng,\n",
    "    \"Max_Temp\":Max_Temp,\n",
    "    \"Cloudiness\":Cloudiness,\n",
    "    \"Humidity\":Humidity,\n",
    "    \"Wind_Speed\": Wind_Speed,\n",
    "    \"country\":country,\n",
    "    \"date\":date\n",
    "}\n",
    "weather_data = pd.DataFrame(weather_dict)\n",
    "weather_data.head()"
   ]
  },
  {
   "cell_type": "code",
   "execution_count": null,
   "metadata": {},
   "outputs": [],
   "source": [
    "weather_data.to_csv(\"weather_data.csv\", encoding=\"utf-8\", index=False)\n"
   ]
  },
  {
   "cell_type": "markdown",
   "metadata": {},
   "source": [
    "## Plotting the Data\n",
    "* Use proper labeling of the plots using plot titles (including date of analysis) and axes labels.\n",
    "* Save the plotted figures as .pngs."
   ]
  },
  {
   "cell_type": "markdown",
   "metadata": {},
   "source": [
    "### Latitude vs. Temperature Plot"
   ]
  },
  {
   "cell_type": "code",
   "execution_count": null,
   "metadata": {
    "scrolled": true
   },
   "outputs": [],
   "source": [
    "# Build a scatter plot for each data type\n",
    "plt.scatter(weather_data[\"lat\"], weather_data[\"Max_Temp\"], marker=\"o\")\n",
    "\n",
    "# Incorporate the other graph properties\n",
    "plt.title(\"Latitude vs. Temperature Plot\")\n",
    "plt.ylabel(\"Temperature (Celsius)\")\n",
    "plt.xlabel(\"Latitude\")\n",
    "plt.grid(True)\n",
    "\n",
    "# Save the figure\n",
    "plt.savefig(\"Latitude vs. Temperature.png\")\n",
    "\n",
    "# Show plot\n",
    "plt.show()\n",
    "\n",
    "## Northern Hemisphere(LAT>=0) has lower temperature than the Southern Hemisphere."
   ]
  },
  {
   "cell_type": "markdown",
   "metadata": {},
   "source": [
    "### Latitude vs. Humidity Plot"
   ]
  },
  {
   "cell_type": "code",
   "execution_count": null,
   "metadata": {},
   "outputs": [],
   "source": [
    "# Build a scatter plot for each data type\n",
    "plt.scatter(weather_data[\"lat\"], weather_data[\"Humidity\"], marker=\"o\")\n",
    "\n",
    "# Incorporate the other graph properties\n",
    "plt.title(\"Latitude vs. Humidity Plot\")\n",
    "plt.ylabel(\"Humidity\")\n",
    "plt.xlabel(\"Latitude\")\n",
    "plt.grid(True)\n",
    "\n",
    "# Save the figure\n",
    "plt.savefig(\"Latitude vs. Humidity.png\")\n",
    "\n",
    "# Show plot\n",
    "plt.show()\n",
    "\n",
    "## Northern Hemisphere(LAT>=0) has evenly distributed Humidity with the Southern Hemisphere."
   ]
  },
  {
   "cell_type": "markdown",
   "metadata": {},
   "source": [
    "### Latitude vs. Cloudiness Plot"
   ]
  },
  {
   "cell_type": "code",
   "execution_count": null,
   "metadata": {},
   "outputs": [],
   "source": [
    "# Build a scatter plot for each data type\n",
    "plt.scatter(weather_data[\"lat\"], weather_data[\"Cloudiness\"], marker=\"o\")\n",
    "\n",
    "# Incorporate the other graph properties\n",
    "plt.title(\"Latitude vs. Cloudiness Plot\")\n",
    "plt.ylabel(\"Cloudiness\")\n",
    "plt.xlabel(\"Latitude\")\n",
    "plt.grid(True)\n",
    "\n",
    "# Save the figure\n",
    "plt.savefig(\"Latitude vs. Cloudiness.png\")\n",
    "\n",
    "# Show plot\n",
    "plt.show()\n",
    "\n",
    "## Northern Hemisphere(LAT>=0) has evenly distributed Cloudiness with the Southern Hemisphere."
   ]
  },
  {
   "cell_type": "markdown",
   "metadata": {},
   "source": [
    "### Latitude vs. Wind Speed Plot"
   ]
  },
  {
   "cell_type": "code",
   "execution_count": null,
   "metadata": {},
   "outputs": [],
   "source": [
    "# Build a scatter plot for each data type\n",
    "plt.scatter(weather_data[\"lat\"], weather_data[\"Wind_Speed\"], marker=\"o\")\n",
    "\n",
    "# Incorporate the other graph properties\n",
    "plt.title(\"Latitude vs. Wind_Speed Plot\")\n",
    "plt.ylabel(\"Wind_Speed\")\n",
    "plt.xlabel(\"Latitude\")\n",
    "plt.grid(True)\n",
    "\n",
    "# Save the figure\n",
    "plt.savefig(\"Latitude vs. Wind_Speed.png\")\n",
    "\n",
    "# Show plot\n",
    "plt.show()\n",
    "\n",
    "## Northern Hemisphere(LAT>=0) has evenly distributed Wind Speed with the Southern Hemisphere."
   ]
  },
  {
   "cell_type": "markdown",
   "metadata": {},
   "source": [
    "## Linear Regression"
   ]
  },
  {
   "cell_type": "markdown",
   "metadata": {},
   "source": [
    "### Write linear regression plot function (optional)"
   ]
  },
  {
   "cell_type": "code",
   "execution_count": null,
   "metadata": {},
   "outputs": [],
   "source": [
    "weather_dataN = weather_data[weather_data['lat']>=0]\n",
    "weather_dataS =weather_data[weather_data['lat']<0]\n",
    "weather_dataN"
   ]
  },
  {
   "cell_type": "markdown",
   "metadata": {},
   "source": [
    "###  Northern Hemisphere - Max Temp vs. Latitude Linear Regression"
   ]
  },
  {
   "cell_type": "code",
   "execution_count": null,
   "metadata": {},
   "outputs": [],
   "source": [
    "## Convert to floats and store Latitude and Max Temp as x and y values\n",
    "x_values1 = weather_dataN['lat'].astype('float')\n",
    "y_values1 = weather_dataN['Max_Temp'].astype('float')\n",
    "\n",
    "# Run linear regression\n",
    "(slope, intercept, rvalue, pvalue, stderr) = linregress(x_values1, y_values1)\n",
    "regress_values1 = x_values1 * slope + intercept\n",
    "line_eq = \"y = \" + str(round(slope,2)) + \"x + \" + str(round(intercept,2))\n",
    "\n",
    "# Plot scatter plot\n",
    "plt.scatter(x_values1,y_values1)\n",
    "\n",
    "# Plot regression line\n",
    "plt.plot(x_values1,regress_values1,\"r-\")\n",
    "plt.annotate(line_eq,(30,280),fontsize=15,color=\"red\")\n",
    "\n",
    "# Label plot\n",
    "plt.title(\"Northern Hemisphere - Max Temp vs. Latitude Linear Regression\")\n",
    "plt.xlabel('Latitude')\n",
    "plt.ylabel('Max Temp')\n",
    "\n",
    "# Print r square value\n",
    "print(f\"R squared: {rvalue**2}\")\n",
    "\n",
    "# Save the figure\n",
    "plt.savefig(\"Northern Hemisphere - Max Temp vs. Latitude.png\")\n",
    "\n",
    "# Show plot\n",
    "plt.show()\n",
    "\n",
    "## There is a moderate negative relaltionship between max temp and latitude in the Northern Hemisphere."
   ]
  },
  {
   "cell_type": "markdown",
   "metadata": {},
   "source": [
    "###  Southern Hemisphere - Max Temp vs. Latitude Linear Regression"
   ]
  },
  {
   "cell_type": "code",
   "execution_count": null,
   "metadata": {},
   "outputs": [],
   "source": [
    "## Convert to floats and store Latitude and Max Temp as x and y values\n",
    "x_values2 = weather_dataS['lat'].astype('float')\n",
    "y_values2 = weather_dataS['Max_Temp'].astype('float')\n",
    "\n",
    "# Run linear regression\n",
    "(slope, intercept, rvalue, pvalue, stderr) = linregress(x_values2, y_values2)\n",
    "regress_values2 = x_values2 * slope + intercept\n",
    "line_eq = \"y = \" + str(round(slope,2)) + \"x + \" + str(round(intercept,2))\n",
    "\n",
    "# Plot scatter plot\n",
    "plt.scatter(x_values2,y_values2)\n",
    "\n",
    "# Plot regression line\n",
    "plt.plot(x_values2,regress_values2,\"r-\")\n",
    "plt.annotate(line_eq,(-28,290),fontsize=15,color=\"red\")\n",
    "\n",
    "# Label plot\n",
    "plt.title(\"Southern Hemisphere - Max Temp vs. Latitude Linear Regression\")\n",
    "plt.xlabel('Latitude')\n",
    "plt.ylabel('Max Temp')\n",
    "\n",
    "# Print r square value\n",
    "print(f\"R squared: {rvalue**2}\")\n",
    "\n",
    "# Save the figure\n",
    "plt.savefig(\"Southern Hemisphere - Max Temp vs. Latitude.png\")\n",
    "\n",
    "# Show plot\n",
    "plt.show()\n",
    "\n",
    "## There is a strong postive relaltionship between max temp and latitude in the Southern Hemisphere."
   ]
  },
  {
   "cell_type": "markdown",
   "metadata": {},
   "source": [
    "###  Northern Hemisphere - Humidity (%) vs. Latitude Linear Regression"
   ]
  },
  {
   "cell_type": "code",
   "execution_count": null,
   "metadata": {},
   "outputs": [],
   "source": [
    "## Convert to floats and store Latitude and Max Temp as x and y values\n",
    "x_values3 = weather_dataN['lat'].astype('float')\n",
    "y_values3 = weather_dataN['Humidity'].astype('float')\n",
    "\n",
    "# Run linear regression\n",
    "(slope, intercept, rvalue, pvalue, stderr) = linregress(x_values3, y_values3)\n",
    "regress_values3 = x_values3 * slope + intercept\n",
    "line_eq = \"y = \" + str(round(slope,2)) + \"x + \" + str(round(intercept,2))\n",
    "\n",
    "# Plot scatter plot\n",
    "plt.scatter(x_values3,y_values3)\n",
    "\n",
    "# Plot regression line\n",
    "plt.plot(x_values3,regress_values3,\"r-\")\n",
    "plt.annotate(line_eq,(50,82),fontsize=15,color=\"red\")\n",
    "\n",
    "# Label plot\n",
    "plt.title(\"Northern Hemisphere - Humidity (%) vs. Latitude Linear Regression\")\n",
    "plt.xlabel('Latitude')\n",
    "plt.ylabel('Humidity')\n",
    "\n",
    "# Print r square value\n",
    "print(f\"R squared: {rvalue**2}\")\n",
    "\n",
    "# Save the figure\n",
    "plt.savefig(\"Northern Hemisphere - Humidity vs. Latitude.png\")\n",
    "\n",
    "# Show plot\n",
    "plt.show()\n",
    "\n",
    "## There is almost no relaltionship between Humidity (%) and latitude in the Northern Hemisphere."
   ]
  },
  {
   "cell_type": "markdown",
   "metadata": {},
   "source": [
    "###  Southern Hemisphere - Humidity (%) vs. Latitude Linear Regression"
   ]
  },
  {
   "cell_type": "code",
   "execution_count": null,
   "metadata": {},
   "outputs": [],
   "source": [
    "## Convert to floats and store Latitude and Max Temp as x and y values\n",
    "x_values4 = weather_dataS['lat'].astype('float')\n",
    "y_values4 = weather_dataS['Humidity'].astype('float')\n",
    "\n",
    "# Run linear regression\n",
    "(slope, intercept, rvalue, pvalue, stderr) = linregress(x_values4, y_values4)\n",
    "regress_values4 = x_values4 * slope + intercept\n",
    "line_eq = \"y = \" + str(round(slope,2)) + \"x + \" + str(round(intercept,2))\n",
    "\n",
    "# Plot scatter plot\n",
    "plt.scatter(x_values4,y_values4)\n",
    "\n",
    "# Plot regression line\n",
    "plt.plot(x_values4,regress_values4,\"r-\")\n",
    "plt.annotate(line_eq,(-28,80),fontsize=15,color=\"red\")\n",
    "\n",
    "# Label plot\n",
    "plt.title(\"Southern Hemisphere - Humidity (%) vs. Latitude Linear Regression\")\n",
    "plt.xlabel('Latitude')\n",
    "plt.ylabel('Humidity')\n",
    "\n",
    "# Print r square value\n",
    "print(f\"R squared: {rvalue**2}\")\n",
    "\n",
    "# Save the figure\n",
    "plt.savefig(\"Southern Hemisphere - Humidity (%) vs. Latitude.png\")\n",
    "\n",
    "# Show plot\n",
    "plt.show()\n",
    "\n",
    "## There is a little negative relaltionship between Humidity (%) and latitude in the Southern Hemisphere."
   ]
  },
  {
   "cell_type": "markdown",
   "metadata": {},
   "source": [
    "###  Northern Hemisphere - Cloudiness (%) vs. Latitude Linear Regression"
   ]
  },
  {
   "cell_type": "code",
   "execution_count": null,
   "metadata": {},
   "outputs": [],
   "source": [
    "## Convert to floats and store Latitude and Max Temp as x and y values\n",
    "x_values5 = weather_dataN['lat'].astype('float')\n",
    "y_values5 = weather_dataN['Cloudiness'].astype('float')\n",
    "\n",
    "# Run linear regression\n",
    "(slope, intercept, rvalue, pvalue, stderr) = linregress(x_values5, y_values5)\n",
    "regress_values5 = x_values5 * slope + intercept\n",
    "line_eq = \"y = \" + str(round(slope,2)) + \"x + \" + str(round(intercept,2))\n",
    "\n",
    "# Plot scatter plot\n",
    "plt.scatter(x_values5,y_values5)\n",
    "\n",
    "# Plot regression line\n",
    "plt.plot(x_values5,regress_values5,\"r-\")\n",
    "plt.annotate(line_eq,(40,40),fontsize=15,color=\"red\")\n",
    "\n",
    "# Label plot\n",
    "plt.title(\"Northern Hemisphere - Cloudiness (%) vs. Latitude Linear Regression\")\n",
    "plt.xlabel('Latitude')\n",
    "plt.ylabel('Cloudiness (%)')\n",
    "\n",
    "# Print r square value\n",
    "print(f\"R squared: {rvalue**2}\")\n",
    "\n",
    "# Save the figure\n",
    "plt.savefig(\"Northern Hemisphere - Cloudiness (%) vs. Latitude.png\")\n",
    "\n",
    "# Show plot\n",
    "plt.show()\n",
    "\n",
    "## There is almost no relaltionship between Cloudiness (%) and latitude in the Northern Hemisphere."
   ]
  },
  {
   "cell_type": "markdown",
   "metadata": {},
   "source": [
    "###  Southern Hemisphere - Cloudiness (%) vs. Latitude Linear Regression"
   ]
  },
  {
   "cell_type": "code",
   "execution_count": null,
   "metadata": {},
   "outputs": [],
   "source": [
    "## Convert to floats and store Latitude and Max Temp as x and y values\n",
    "x_values6 = weather_dataS['lat'].astype('float')\n",
    "y_values6 = weather_dataS['Cloudiness'].astype('float')\n",
    "\n",
    "# Run linear regression\n",
    "(slope, intercept, rvalue, pvalue, stderr) = linregress(x_values6, y_values6)\n",
    "regress_values6 = x_values6 * slope + intercept\n",
    "line_eq = \"y = \" + str(round(slope,2)) + \"x + \" + str(round(intercept,2))\n",
    "\n",
    "# Plot scatter plot\n",
    "plt.scatter(x_values6,y_values6)\n",
    "\n",
    "# Plot regression line\n",
    "plt.plot(x_values6,regress_values6,\"r-\")\n",
    "plt.annotate(line_eq,(-28,60),fontsize=15,color=\"red\")\n",
    "\n",
    "# Label plot\n",
    "plt.title(\"Southern Hemisphere - Cloudiness (%) vs. Latitude Linear Regression\")\n",
    "plt.xlabel('Latitude')\n",
    "plt.ylabel('Cloudiness (%)')\n",
    "\n",
    "# Print r square value\n",
    "print(f\"R squared: {rvalue**2}\")\n",
    "\n",
    "# Save the figure\n",
    "plt.savefig(\"Southern Hemisphere - Cloudiness (%) vs. Latitude.png\")\n",
    "\n",
    "# Show plot\n",
    "plt.show()\n",
    "\n",
    "## There is a little negative relaltionship between Cloudiness (%)  and latitude in the Southern Hemisphere."
   ]
  },
  {
   "cell_type": "markdown",
   "metadata": {},
   "source": [
    "###  Northern Hemisphere - Wind Speed (mph) vs. Latitude Linear Regression"
   ]
  },
  {
   "cell_type": "code",
   "execution_count": null,
   "metadata": {},
   "outputs": [],
   "source": [
    "## Convert to floats and store Latitude and Max Temp as x and y values\n",
    "x_values7 = weather_dataN['lat'].astype('float')\n",
    "y_values7 = weather_dataN['Wind_Speed'].astype('float')\n",
    "\n",
    "# Run linear regression\n",
    "(slope, intercept, rvalue, pvalue, stderr) = linregress(x_values7, y_values7)\n",
    "regress_values7 = x_values7 * slope + intercept\n",
    "line_eq = \"y = \" + str(round(slope,2)) + \"x + \" + str(round(intercept,2))\n",
    "\n",
    "# Plot scatter plot\n",
    "plt.scatter(x_values7,y_values7)\n",
    "\n",
    "# Plot regression line\n",
    "plt.plot(x_values7,regress_values7,\"r-\")\n",
    "plt.annotate(line_eq,(30,3),fontsize=15,color=\"red\")\n",
    "\n",
    "# Label plot\n",
    "plt.title(\"Northern Hemisphere - Wind Speed (mph) vs. Latitude Linear Regression\")\n",
    "plt.xlabel('Latitude')\n",
    "plt.ylabel('Wind Speed (mph)')\n",
    "\n",
    "# Print r square value\n",
    "print(f\"R squared: {rvalue**2}\")\n",
    "\n",
    "# Save the figure\n",
    "plt.savefig(\"Northern Hemisphere - Wind Speed (mph) vs. Latitude.png\")\n",
    "\n",
    "# Show plot\n",
    "plt.show()\n",
    "\n",
    "## There is a little postive relaltionship between Wind Speed (mph) and latitude in the Northern Hemisphere."
   ]
  },
  {
   "cell_type": "markdown",
   "metadata": {},
   "source": [
    "###  Southern Hemisphere - Wind Speed (mph) vs. Latitude Linear Regression"
   ]
  },
  {
   "cell_type": "code",
   "execution_count": null,
   "metadata": {},
   "outputs": [],
   "source": [
    "## Convert to floats and store Latitude and Max Temp as x and y values\n",
    "x_values8 = weather_dataS['lat'].astype('float')\n",
    "y_values8 = weather_dataS['Wind_Speed'].astype('float')\n",
    "\n",
    "# Run linear regression\n",
    "(slope, intercept, rvalue, pvalue, stderr) = linregress(x_values8, y_values8)\n",
    "regress_values8 = x_values8 * slope + intercept\n",
    "line_eq = \"y = \" + str(round(slope,2)) + \"x + \" + str(round(intercept,2))\n",
    "\n",
    "# Plot scatter plot\n",
    "plt.scatter(x_values8, y_values8)\n",
    "\n",
    "# Plot regression line\n",
    "plt.plot(x_values8,regress_values8,\"r-\")\n",
    "plt.annotate(line_eq,(-30,2),fontsize=15,color=\"red\")\n",
    "\n",
    "# Label plot\n",
    "plt.title(\"Southern Hemisphere - Wind Speed (mph) vs. Latitude Linear Regression\")\n",
    "plt.xlabel('Latitude')\n",
    "plt.ylabel('Wind Speed (mph)')\n",
    "\n",
    "# Print r square value\n",
    "print(f\"R squared: {rvalue**2}\")\n",
    "\n",
    "# Save the figure\n",
    "plt.savefig(\"Southern Hemisphere - Wind Speed (mph) vs. Latitude.png\")\n",
    "\n",
    "# Show plot\n",
    "plt.show()\n",
    "\n",
    "## There is a little negative relaltionship between Wind Speed (mph) and latitude in the Southern Hemisphere."
   ]
  },
  {
   "cell_type": "code",
   "execution_count": null,
   "metadata": {},
   "outputs": [],
   "source": []
  }
 ],
 "metadata": {
  "anaconda-cloud": {},
  "kernel_info": {
   "name": "python3"
  },
  "kernelspec": {
   "display_name": "Python 3",
   "language": "python",
   "name": "python3"
  },
  "language_info": {
   "codemirror_mode": {
    "name": "ipython",
    "version": 3
   },
   "file_extension": ".py",
   "mimetype": "text/x-python",
   "name": "python",
   "nbconvert_exporter": "python",
   "pygments_lexer": "ipython3",
   "version": "3.8.5"
  },
  "latex_envs": {
   "LaTeX_envs_menu_present": true,
   "autoclose": false,
   "autocomplete": true,
   "bibliofile": "biblio.bib",
   "cite_by": "apalike",
   "current_citInitial": 1,
   "eqLabelWithNumbers": true,
   "eqNumInitial": 1,
   "hotkeys": {
    "equation": "Ctrl-E",
    "itemize": "Ctrl-I"
   },
   "labels_anchors": false,
   "latex_user_defs": false,
   "report_style_numbering": false,
   "user_envs_cfg": false
  },
  "nteract": {
   "version": "0.12.3"
  },
  "toc": {
   "base_numbering": 1,
   "nav_menu": {},
   "number_sections": true,
   "sideBar": true,
   "skip_h1_title": false,
   "title_cell": "Table of Contents",
   "title_sidebar": "Contents",
   "toc_cell": false,
   "toc_position": {},
   "toc_section_display": true,
   "toc_window_display": false
  },
  "varInspector": {
   "cols": {
    "lenName": 16,
    "lenType": 16,
    "lenVar": 40
   },
   "kernels_config": {
    "python": {
     "delete_cmd_postfix": "",
     "delete_cmd_prefix": "del ",
     "library": "var_list.py",
     "varRefreshCmd": "print(var_dic_list())"
    },
    "r": {
     "delete_cmd_postfix": ") ",
     "delete_cmd_prefix": "rm(",
     "library": "var_list.r",
     "varRefreshCmd": "cat(var_dic_list()) "
    }
   },
   "types_to_exclude": [
    "module",
    "function",
    "builtin_function_or_method",
    "instance",
    "_Feature"
   ],
   "window_display": false
  }
 },
 "nbformat": 4,
 "nbformat_minor": 2
}
